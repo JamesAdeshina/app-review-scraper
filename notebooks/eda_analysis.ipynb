{
 "cells": [
  {
   "metadata": {},
   "cell_type": "markdown",
   "source": "## APP REVIEW ANALYSIS",
   "id": "a1521c404e6d94e7"
  },
  {
   "cell_type": "code",
   "id": "initial_id",
   "metadata": {
    "collapsed": true,
    "ExecuteTime": {
     "end_time": "2025-09-20T20:16:34.321313Z",
     "start_time": "2025-09-20T20:16:34.299220Z"
    }
   },
   "source": [
    "# Cell 1: Load Your Fresh Data\n",
    "import pandas as pd\n",
    "import matplotlib.pyplot as plt\n",
    "import seaborn as sns\n",
    "from pathlib import Path"
   ],
   "outputs": [],
   "execution_count": 7
  },
  {
   "metadata": {
    "ExecuteTime": {
     "end_time": "2025-09-20T20:20:08.565638Z",
     "start_time": "2025-09-20T20:20:08.158939Z"
    }
   },
   "cell_type": "code",
   "source": [
    "# Load the clean, perfectly-named files\n",
    "google_df = pd.read_csv(data_dir / \"whatsapp_google_play_reviews_clean.csv\")\n",
    "apple_df = pd.read_csv(data_dir / \"whatsapp_apple_store_reviews_clean.csv\")"
   ],
   "id": "82c58d7a3b8e8b9b",
   "outputs": [],
   "execution_count": 14
  },
  {
   "metadata": {
    "ExecuteTime": {
     "end_time": "2025-09-20T20:20:15.884878Z",
     "start_time": "2025-09-20T20:20:15.861315Z"
    }
   },
   "cell_type": "code",
   "source": [
    "# Add source labels\n",
    "google_df['platform'] = 'Google Play'\n",
    "apple_df['platform'] = 'Apple App Store'"
   ],
   "id": "166f2fec26d1442c",
   "outputs": [],
   "execution_count": 15
  },
  {
   "metadata": {
    "ExecuteTime": {
     "end_time": "2025-09-20T20:31:08.877307Z",
     "start_time": "2025-09-20T20:31:08.775452Z"
    }
   },
   "cell_type": "code",
   "source": [
    "# Combine for analysis\n",
    "whatsapp_reviews = pd.concat([google_df, apple_df], ignore_index=True)\n",
    "\n",
    "print(f\"🎉 WhatsApp Data Loaded!\")\n",
    "print(f\"📊 Google Play: {len(google_df)} reviews\")\n",
    "print(f\"📊 Apple Store: {len(apple_df)} reviews\")\n",
    "print(f\"📊 Total: {len(google_df) + len(apple_df)} reviews\")\n",
    "\n",
    "# Quick rating preview: Handle different column names for each store\n",
    "rating_col_google = 'score' if 'score' in google_df.columns else 'rating'\n",
    "rating_col_apple = 'score' if 'score' in apple_df.columns else 'rating'\n",
    "\n",
    "# Print average ratings\n",
    "print(f\"\\n⭐ Average Ratings:\")\n",
    "print(f\"   Google Play: {google_df[rating_col_google].mean():.2f} ⭐\")\n",
    "print(f\"   Apple Store: {apple_df[rating_col_apple].mean():.2f} ⭐\")"
   ],
   "id": "cd4c5c45be14c028",
   "outputs": [
    {
     "name": "stdout",
     "output_type": "stream",
     "text": [
      "🎉 WhatsApp Data Loaded!\n",
      "📊 Google Play: 169 reviews\n",
      "📊 Apple Store: 48 reviews\n",
      "📊 Total: 217 reviews\n",
      "\n",
      "⭐ Average Ratings:\n",
      "   Google Play: 3.82 ⭐\n",
      "   Apple Store: 3.25 ⭐\n"
     ]
    }
   ],
   "execution_count": 17
  },
  {
   "metadata": {},
   "cell_type": "code",
   "outputs": [],
   "execution_count": null,
   "source": [
    "# =============================================================================\n",
    "# WHATSAPP APP REVIEW ANALYSIS\n",
    "# Phase 1: Exploratory Data Analysis (EDA)\n",
    "# ============================================================================="
   ],
   "id": "59d55fac17895e43"
  }
 ],
 "metadata": {
  "kernelspec": {
   "display_name": "Python 3",
   "language": "python",
   "name": "python3"
  },
  "language_info": {
   "codemirror_mode": {
    "name": "ipython",
    "version": 2
   },
   "file_extension": ".py",
   "mimetype": "text/x-python",
   "name": "python",
   "nbconvert_exporter": "python",
   "pygments_lexer": "ipython2",
   "version": "2.7.6"
  }
 },
 "nbformat": 4,
 "nbformat_minor": 5
}
